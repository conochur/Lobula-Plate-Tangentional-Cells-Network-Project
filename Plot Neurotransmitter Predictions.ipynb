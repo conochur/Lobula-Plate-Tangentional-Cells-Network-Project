{
 "cells": [
  {
   "cell_type": "code",
   "execution_count": 28,
   "metadata": {},
   "outputs": [],
   "source": [
    "import pandas as pd\n",
    "import plotly.express as px\n",
    "\n",
    "Predictions = pd.read_csv(\"Neuro_Predictions_LPTC_Synapses.csv\")"
   ]
  },
  {
   "cell_type": "code",
   "execution_count": 29,
   "metadata": {},
   "outputs": [],
   "source": [
    "LPTC_IDs = list(set(Predictions['query']))\n",
    "NeuroTrans = {'gaba':0 ,'acetylcholine':1 ,  'glutamate':2 , 'octopamine':3 ,  'serotonin':4 , 'dopamine':5}"
   ]
  },
  {
   "cell_type": "code",
   "execution_count": 32,
   "metadata": {},
   "outputs": [],
   "source": [
    "for ID in LPTC_IDs:\n",
    "    \n",
    "    Slice = Predictions[(Predictions[\"query\"] == ID)]\n",
    "    Slice.sort_values('top.nt')\n",
    "   \n",
    "    fig = px.scatter_3d(Slice, x='pre_x', y='pre_y', z='pre_z',\n",
    "              color='top.nt')\n",
    "    \n",
    "    fig.write_html(\"Neurotrans_Pred_\" + str(ID) + \".html\")"
   ]
  },
  {
   "cell_type": "code",
   "execution_count": 33,
   "metadata": {},
   "outputs": [
    {
     "data": {
      "text/plain": [
       "'C:\\\\Users\\\\conoc\\\\Reiser'"
      ]
     },
     "execution_count": 33,
     "metadata": {},
     "output_type": "execute_result"
    }
   ],
   "source": [
    "pwd"
   ]
  },
  {
   "cell_type": "code",
   "execution_count": null,
   "metadata": {},
   "outputs": [],
   "source": []
  }
 ],
 "metadata": {
  "kernelspec": {
   "display_name": "Python 3",
   "language": "python",
   "name": "python3"
  },
  "language_info": {
   "codemirror_mode": {
    "name": "ipython",
    "version": 3
   },
   "file_extension": ".py",
   "mimetype": "text/x-python",
   "name": "python",
   "nbconvert_exporter": "python",
   "pygments_lexer": "ipython3",
   "version": "3.8.5"
  }
 },
 "nbformat": 4,
 "nbformat_minor": 4
}
