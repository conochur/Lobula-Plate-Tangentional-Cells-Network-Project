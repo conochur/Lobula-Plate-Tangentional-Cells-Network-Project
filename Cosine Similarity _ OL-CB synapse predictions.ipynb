{
 "cells": [
  {
   "cell_type": "code",
   "execution_count": 1,
   "metadata": {},
   "outputs": [],
   "source": [
    "import pandas as pd\n",
    "import sklearn.metrics.pairwise\n",
    "Left = pd.read_csv(\"CSV_FILE\")\n",
    "Right = pd.read_csv(\"CSV_FILE\")"
   ]
  },
  {
   "cell_type": "code",
   "execution_count": 2,
   "metadata": {},
   "outputs": [],
   "source": [
    "df = sklearn.metrics.pairwise.cosine_similarity(Right, Y=Left, dense_output=True)\n",
    "df = pd.DataFrame(df)\n",
    "df.to_csv('LPTCs_Self_CosineSimilarity_ALL_02232022.csv', index=False)"
   ]
  },
  {
   "cell_type": "code",
   "execution_count": null,
   "metadata": {},
   "outputs": [],
   "source": []
  },
  {
   "cell_type": "code",
   "execution_count": 5,
   "metadata": {},
   "outputs": [],
   "source": [
    "Flywire_IDs = [FLYWIRE ID LIST]"
   ]
  },
  {
   "cell_type": "code",
   "execution_count": 6,
   "metadata": {},
   "outputs": [],
   "source": [
    "import pandas as pd\n",
    "LPTC_Outputs = pd.read_csv(\"LPTCs(all)_outputs_02072022.csv\")\n",
    "LPTC_Outputs['query'] = LPTC_Outputs['query'].astype(str)\n",
    "LPTC_Outputs['pre_id'] = LPTC_Outputs['pre_id'].astype(str)\n",
    "LPTC_Outputs['post_id'] = LPTC_Outputs['post_id'].astype(str)"
   ]
  },
  {
   "cell_type": "code",
   "execution_count": 7,
   "metadata": {},
   "outputs": [
    {
     "name": "stdout",
     "output_type": "stream",
     "text": [
      "15234\n"
     ]
    }
   ],
   "source": [
    "### remove all synapses that don't belong to two LPTCs\n",
    "\n",
    "Header = list(LPTC_Outputs.columns)\n",
    "Final = []\n",
    "\n",
    "for index,row in LPTC_Outputs.iterrows():\n",
    "    \n",
    "    if int(row['query']) != int(row['pre_id']):\n",
    "        continue\n",
    "        \n",
    "    if int(row['post_id']) == int(row['pre_id']):\n",
    "        continue\n",
    "    \n",
    "    if int(row['post_id']) not in Flywire_IDs:\n",
    "        continue\n",
    "    \n",
    "    if int(row['pre_id']) not in Flywire_IDs:\n",
    "        continue\n",
    "        \n",
    "    Final.append(row)\n",
    "    \n",
    "\n",
    "print(len(Final))\n",
    "\n",
    "#create dataframe    \n",
    "LPTCvLPTC_Final = pd.DataFrame(Final)\n",
    "LPTCvLPTC_Final.columns = Header  "
   ]
  },
  {
   "cell_type": "code",
   "execution_count": 8,
   "metadata": {},
   "outputs": [],
   "source": [
    "### label the ROI for the synapse\n",
    "\n",
    "OL_or_CB = []\n",
    "for index,row in LPTCvLPTC_Final.iterrows():\n",
    "    \n",
    "    if int(row['post_id']) == int(row['pre_id']):\n",
    "        OL_or_CB.append('Autapse')\n",
    "        continue\n",
    "        \n",
    "    if int(row['pre_x']) < 400000:\n",
    "        OL_or_CB.append('LO')\n",
    "        continue\n",
    "        \n",
    "    if int(row['pre_x']) > 650000:\n",
    "        OL_or_CB.append('LO')\n",
    "        continue\n",
    "    \n",
    "    OL_or_CB.append('CB')\n",
    "    \n",
    "       "
   ]
  },
  {
   "cell_type": "code",
   "execution_count": 9,
   "metadata": {},
   "outputs": [],
   "source": [
    "LPTCvLPTC_Final['ROI'] = OL_or_CB\n",
    "LPTCvLPTC_Final.to_csv('LPTCvLPTC_Outputs_ROI_02072022.csv', index=False) "
   ]
  },
  {
   "cell_type": "code",
   "execution_count": null,
   "metadata": {},
   "outputs": [],
   "source": []
  }
 ],
 "metadata": {
  "kernelspec": {
   "display_name": "Python 3",
   "language": "python",
   "name": "python3"
  },
  "language_info": {
   "codemirror_mode": {
    "name": "ipython",
    "version": 3
   },
   "file_extension": ".py",
   "mimetype": "text/x-python",
   "name": "python",
   "nbconvert_exporter": "python",
   "pygments_lexer": "ipython3",
   "version": "3.8.5"
  }
 },
 "nbformat": 4,
 "nbformat_minor": 4
}
